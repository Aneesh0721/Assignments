{
 "cells": [
  {
   "cell_type": "raw",
   "id": "c1824513",
   "metadata": {},
   "source": [
    "1. Create an assert statement that throws an AssertionError if the variable spam is a negative\n",
    "integer."
   ]
  },
  {
   "cell_type": "code",
   "execution_count": 1,
   "id": "a6d0833b",
   "metadata": {},
   "outputs": [
    {
     "name": "stdout",
     "output_type": "stream",
     "text": [
      "Enter a number:-1\n"
     ]
    },
    {
     "ename": "AssertionError",
     "evalue": "",
     "output_type": "error",
     "traceback": [
      "\u001b[1;31m---------------------------------------------------------------------------\u001b[0m",
      "\u001b[1;31mAssertionError\u001b[0m                            Traceback (most recent call last)",
      "Input \u001b[1;32mIn [1]\u001b[0m, in \u001b[0;36m<cell line: 2>\u001b[1;34m()\u001b[0m\n\u001b[0;32m      1\u001b[0m spam \u001b[38;5;241m=\u001b[39m \u001b[38;5;28mint\u001b[39m(\u001b[38;5;28minput\u001b[39m(\u001b[38;5;124m\"\u001b[39m\u001b[38;5;124mEnter a number:\u001b[39m\u001b[38;5;124m\"\u001b[39m))\n\u001b[1;32m----> 2\u001b[0m \u001b[38;5;28;01massert\u001b[39;00m spam \u001b[38;5;241m>\u001b[39m \u001b[38;5;241m0\u001b[39m\n\u001b[0;32m      3\u001b[0m \u001b[38;5;28mprint\u001b[39m(spam)\n",
      "\u001b[1;31mAssertionError\u001b[0m: "
     ]
    }
   ],
   "source": [
    "spam = int(input(\"Enter a number:\"))\n",
    "assert spam > 0\n",
    "print(spam)"
   ]
  },
  {
   "cell_type": "raw",
   "id": "8e7b1b3a",
   "metadata": {},
   "source": [
    "2. Write an assert statement that triggers an AssertionError if the variables eggs and bacon contain\n",
    "strings that are the same as each other, even if their cases are different (that is, 'hello' and 'hello' are\n",
    "considered the same, and 'goodbye' and 'GOODbye' are also considered the same)."
   ]
  },
  {
   "cell_type": "code",
   "execution_count": 1,
   "id": "b6be8a9c",
   "metadata": {},
   "outputs": [
    {
     "name": "stdout",
     "output_type": "stream",
     "text": [
      "Enter a string:nikil\n",
      "Enter a string:reddy\n",
      "nikil reddy\n",
      "Enter a string:nikil\n",
      "Enter a string:Nikil\n"
     ]
    },
    {
     "ename": "AssertionError",
     "evalue": "",
     "output_type": "error",
     "traceback": [
      "\u001b[1;31m---------------------------------------------------------------------------\u001b[0m",
      "\u001b[1;31mAssertionError\u001b[0m                            Traceback (most recent call last)",
      "Input \u001b[1;32mIn [1]\u001b[0m, in \u001b[0;36m<cell line: 2>\u001b[1;34m()\u001b[0m\n\u001b[0;32m      2\u001b[0m eggs \u001b[38;5;241m=\u001b[39m \u001b[38;5;28mstr\u001b[39m(\u001b[38;5;28minput\u001b[39m(\u001b[38;5;124m\"\u001b[39m\u001b[38;5;124mEnter a string:\u001b[39m\u001b[38;5;124m\"\u001b[39m))\n\u001b[0;32m      3\u001b[0m bacon \u001b[38;5;241m=\u001b[39m \u001b[38;5;28mstr\u001b[39m(\u001b[38;5;28minput\u001b[39m(\u001b[38;5;124m\"\u001b[39m\u001b[38;5;124mEnter a string:\u001b[39m\u001b[38;5;124m\"\u001b[39m))\n\u001b[1;32m----> 4\u001b[0m \u001b[38;5;28;01massert\u001b[39;00m eggs\u001b[38;5;241m.\u001b[39mupper() \u001b[38;5;241m!=\u001b[39m bacon\u001b[38;5;241m.\u001b[39mupper()\n\u001b[0;32m      5\u001b[0m \u001b[38;5;28mprint\u001b[39m(eggs,bacon)\n",
      "\u001b[1;31mAssertionError\u001b[0m: "
     ]
    }
   ],
   "source": [
    "while True:\n",
    "    eggs = str(input(\"Enter a string:\"))\n",
    "    bacon = str(input(\"Enter a string:\"))\n",
    "    assert eggs.upper() != bacon.upper()\n",
    "    print(eggs,bacon)"
   ]
  },
  {
   "cell_type": "raw",
   "id": "08aab616",
   "metadata": {},
   "source": [
    "3. Create an assert statement that throws an AssertionError every time."
   ]
  },
  {
   "cell_type": "code",
   "execution_count": 8,
   "id": "0f70858e",
   "metadata": {},
   "outputs": [
    {
     "name": "stdout",
     "output_type": "stream",
     "text": [
      "Enter a number:10\n"
     ]
    },
    {
     "ename": "AssertionError",
     "evalue": "",
     "output_type": "error",
     "traceback": [
      "\u001b[1;31m---------------------------------------------------------------------------\u001b[0m",
      "\u001b[1;31mAssertionError\u001b[0m                            Traceback (most recent call last)",
      "Input \u001b[1;32mIn [8]\u001b[0m, in \u001b[0;36m<cell line: 3>\u001b[1;34m()\u001b[0m\n\u001b[0;32m      1\u001b[0m a \u001b[38;5;241m=\u001b[39m \u001b[38;5;28mint\u001b[39m(\u001b[38;5;28minput\u001b[39m(\u001b[38;5;124m\"\u001b[39m\u001b[38;5;124mEnter a number:\u001b[39m\u001b[38;5;124m\"\u001b[39m))\n\u001b[0;32m      2\u001b[0m b \u001b[38;5;241m=\u001b[39m \u001b[38;5;241m0\u001b[39m\n\u001b[1;32m----> 3\u001b[0m \u001b[38;5;28;01massert\u001b[39;00m b \u001b[38;5;241m!=\u001b[39m \u001b[38;5;241m0\u001b[39m\n\u001b[0;32m      4\u001b[0m \u001b[38;5;28mprint\u001b[39m(a,b)\n",
      "\u001b[1;31mAssertionError\u001b[0m: "
     ]
    }
   ],
   "source": [
    "a = int(input(\"Enter a number:\"))\n",
    "b = 0\n",
    "assert b != 0\n",
    "print(a,b)"
   ]
  },
  {
   "cell_type": "raw",
   "id": "0493277b",
   "metadata": {},
   "source": [
    "4. What are the two lines that must be present in your software in order to call logging.debug()?"
   ]
  },
  {
   "cell_type": "raw",
   "id": "2e7e287d",
   "metadata": {},
   "source": [
    "import logging\n",
    "logging.basicConfig(filename = \"nikil.log\", level = logging.DEBUG, format = %(asctime)s %(message)s %(level)s)"
   ]
  },
  {
   "cell_type": "raw",
   "id": "17561fad",
   "metadata": {},
   "source": [
    "5. What are the two lines that your program must have in order to have logging.debug() send a\n",
    "logging message to a file named programLog.txt?"
   ]
  },
  {
   "cell_type": "raw",
   "id": "e904596c",
   "metadata": {},
   "source": [
    "import logging\n",
    "logging.basicConfig(filename = \"programLog.txt\", level = logging.DEBUG, format = %(asctime)s %(message)s %(level)s)"
   ]
  },
  {
   "cell_type": "raw",
   "id": "e4909848",
   "metadata": {},
   "source": [
    "6. What are the five levels of logging?\n",
    "    INFO\n",
    "    DEBUG\n",
    "    ERROR\n",
    "    WARNING\n",
    "    CRITICAL"
   ]
  },
  {
   "cell_type": "raw",
   "id": "e3abe2b8",
   "metadata": {},
   "source": [
    "7. What line of code would you add to your software to disable all logging messages?\n",
    "    logging.disable(logging.DEBUG)"
   ]
  },
  {
   "cell_type": "raw",
   "id": "ad5cae86",
   "metadata": {},
   "source": [
    "8.Why is using logging messages better than using print() to display the same message?\n",
    "    With the help of logging message we can store all the output which will help us to verify in future"
   ]
  },
  {
   "cell_type": "raw",
   "id": "8eef6f29",
   "metadata": {},
   "source": [
    "9. What are the differences between the Step Over, Step In, and Step Out buttons in the debugger?\n",
    "      Step in: means that if there is a function call, it goes inside the function and you can see how the function is    executing line by line till it returns and you go back to the next line right after the function call.\n",
    "\n",
    "    Step over: means that if there is a function call, it just executes it like a black box and returns the result, but you cannot see how the function was executed.\n",
    "\n",
    "    Step out: means that if you have Stepped in a function and now you want to skip seeing how the rest of the function is going to execute, you Step out and the function returns. Then, you go back to the next line, that is the line right after the function call."
   ]
  },
  {
   "cell_type": "raw",
   "id": "9f3bf1fd",
   "metadata": {},
   "source": [
    "10.After you click Continue, when will the debugger stop ?\n",
    "    It runs until it terminates or reaches breakpoint"
   ]
  },
  {
   "cell_type": "raw",
   "id": "7fc6caa4",
   "metadata": {},
   "source": [
    "11. What is the concept of a breakpoint?\n",
    "    If the code is very big and coder wants to debug only some part of it, in this case he uses a break point"
   ]
  }
 ],
 "metadata": {
  "kernelspec": {
   "display_name": "Python 3 (ipykernel)",
   "language": "python",
   "name": "python3"
  },
  "language_info": {
   "codemirror_mode": {
    "name": "ipython",
    "version": 3
   },
   "file_extension": ".py",
   "mimetype": "text/x-python",
   "name": "python",
   "nbconvert_exporter": "python",
   "pygments_lexer": "ipython3",
   "version": "3.9.12"
  }
 },
 "nbformat": 4,
 "nbformat_minor": 5
}
