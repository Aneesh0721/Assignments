{
 "cells": [
  {
   "cell_type": "raw",
   "id": "e74c4349",
   "metadata": {},
   "source": [
    "1. In the below elements which of them are values or an expression? eg:- values can be\n",
    "integer or string and expressions will be mathematical operators.\n",
    "Expression : *, -, +, /\n",
    "Values     : 'hello', -87.8, 6"
   ]
  },
  {
   "cell_type": "raw",
   "id": "5167d366",
   "metadata": {},
   "source": [
    "2. What is the difference between string and variable?\n",
    "A variable is a place where we store the data which takes some memory and string is a type of the data which we store in a \n",
    "variable."
   ]
  },
  {
   "cell_type": "raw",
   "id": "48ecd265",
   "metadata": {},
   "source": [
    "3. Describe three different data types.\n",
    "int - which is used for storing whole numbers\n",
    "str - which is used for storing characters\n",
    "Float - which is used for storing the numbers with decimal points"
   ]
  },
  {
   "cell_type": "raw",
   "id": "27608faa",
   "metadata": {},
   "source": [
    "4. What is an expression made up of? What do all expressions do?\n",
    "Expression is a combination of numeric data, variables with different data types and mathematical operators which gives us \n",
    "different types of expressions.\n",
    "These expression helps us to find the required values."
   ]
  },
  {
   "cell_type": "raw",
   "id": "f5fbd07e",
   "metadata": {},
   "source": [
    "5. This assignment statements, like spam = 10. What is the difference between an\n",
    "expression and a statement?\n",
    "An expression is a combination of numeric data, variables, and mathematical operators which gives the values but the statement creats and  displays the value. Each and every line in a code is called as the statement because it is excecuted by the interpreter. "
   ]
  },
  {
   "cell_type": "raw",
   "id": "45f71b3a",
   "metadata": {},
   "source": [
    "6. After running the following code, what does the variable bacon contain?"
   ]
  },
  {
   "cell_type": "code",
   "execution_count": 4,
   "id": "83a786b5",
   "metadata": {},
   "outputs": [
    {
     "data": {
      "text/plain": [
       "23"
      ]
     },
     "execution_count": 4,
     "metadata": {},
     "output_type": "execute_result"
    }
   ],
   "source": [
    "bacon = 22\n",
    "bacon + 1"
   ]
  },
  {
   "cell_type": "raw",
   "id": "82b7ad1b",
   "metadata": {},
   "source": [
    "7. What should the values of the following two terms be?\n"
   ]
  },
  {
   "cell_type": "code",
   "execution_count": 9,
   "id": "f3c263fd",
   "metadata": {},
   "outputs": [
    {
     "data": {
      "text/plain": [
       "'spamspamspam'"
      ]
     },
     "execution_count": 9,
     "metadata": {},
     "output_type": "execute_result"
    }
   ],
   "source": [
    "'spam'+'spamspam'\n",
    "'spam'*3\n",
    "#Same answer"
   ]
  },
  {
   "cell_type": "raw",
   "id": "858d9ac6",
   "metadata": {},
   "source": [
    "8. Why is eggs a valid variable name while 100 is invalid?\n",
    "Because variables cannot be start with numbers and shouldn't be named as numbers "
   ]
  },
  {
   "cell_type": "raw",
   "id": "3249943e",
   "metadata": {},
   "source": [
    "9. What three functions can be used to get the integer, floating-point number, or string\n",
    "version of a value?"
   ]
  },
  {
   "cell_type": "code",
   "execution_count": 11,
   "id": "11eed617",
   "metadata": {},
   "outputs": [
    {
     "data": {
      "text/plain": [
       "526"
      ]
     },
     "execution_count": 11,
     "metadata": {},
     "output_type": "execute_result"
    }
   ],
   "source": [
    "x = 526.325\n",
    "int(x)"
   ]
  },
  {
   "cell_type": "code",
   "execution_count": 12,
   "id": "75498d4e",
   "metadata": {},
   "outputs": [
    {
     "data": {
      "text/plain": [
       "526.325"
      ]
     },
     "execution_count": 12,
     "metadata": {},
     "output_type": "execute_result"
    }
   ],
   "source": [
    "float(x)"
   ]
  },
  {
   "cell_type": "code",
   "execution_count": 13,
   "id": "6cfd5ea1",
   "metadata": {},
   "outputs": [
    {
     "data": {
      "text/plain": [
       "'526.325'"
      ]
     },
     "execution_count": 13,
     "metadata": {},
     "output_type": "execute_result"
    }
   ],
   "source": [
    "str(x)"
   ]
  },
  {
   "cell_type": "raw",
   "id": "87c80380",
   "metadata": {},
   "source": [
    "10. Why does this expression cause an error? How can you fix it?"
   ]
  },
  {
   "cell_type": "code",
   "execution_count": null,
   "id": "a033ccf5",
   "metadata": {},
   "outputs": [],
   "source": [
    "'I have eaten' + 99 + '' "
   ]
  }
 ],
 "metadata": {
  "kernelspec": {
   "display_name": "Python 3 (ipykernel)",
   "language": "python",
   "name": "python3"
  },
  "language_info": {
   "codemirror_mode": {
    "name": "ipython",
    "version": 3
   },
   "file_extension": ".py",
   "mimetype": "text/x-python",
   "name": "python",
   "nbconvert_exporter": "python",
   "pygments_lexer": "ipython3",
   "version": "3.9.12"
  }
 },
 "nbformat": 4,
 "nbformat_minor": 5
}
