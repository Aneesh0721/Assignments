{
 "cells": [
  {
   "cell_type": "raw",
   "id": "fcae263f",
   "metadata": {},
   "source": [
    "1. In what modes should the PdfFileReader() and PdfFileWriter() File objects will be opened?\n",
    "    mode = rb for pdf file reader\n",
    "    mode = wb for pdf file writer"
   ]
  },
  {
   "cell_type": "raw",
   "id": "546f42ca",
   "metadata": {},
   "source": [
    "2. From a PdfFileReader object, how do you get a Page object for page 5?"
   ]
  },
  {
   "cell_type": "code",
   "execution_count": 21,
   "id": "1e78971c",
   "metadata": {},
   "outputs": [
    {
     "name": "stdout",
     "output_type": "stream",
     "text": [
      "Collecting PyPDF2\n",
      "  Downloading PyPDF2-2.8.1-py3-none-any.whl (204 kB)\n",
      "Requirement already satisfied: typing-extensions in c:\\users\\nikil\\anaconda3\\lib\\site-packages (from PyPDF2) (4.1.1)\n",
      "Installing collected packages: PyPDF2\n",
      "Successfully installed PyPDF2-2.8.1\n"
     ]
    }
   ],
   "source": [
    "! pip install PyPDF2"
   ]
  },
  {
   "cell_type": "code",
   "execution_count": 46,
   "id": "5df36ae0",
   "metadata": {},
   "outputs": [],
   "source": [
    "import PyPDF2\n",
    "f = open('nikil2.pdf','rb')\n",
    "f1 = PyPDF2.PdfFileReader(f)\n",
    "page = f1.getPage(4)\n",
    "extraction = page.extractText()\n"
   ]
  },
  {
   "cell_type": "code",
   "execution_count": 47,
   "id": "4de55c28",
   "metadata": {},
   "outputs": [
    {
     "data": {
      "text/plain": [
       "'I. Valchev et\\xa0al.: Kinetic mechanism of cellulase hydrolysis\\u2003 \\u2009\\u2002\\u2002\\u2002\\u2003 5\\nfactor lnλ were calculated (Table 3). It is evident that E is constant during the process, i.e. the cellulose active centres do not change their activity. The factor λ can be related to the dimensions and the accessibility of the reac - tion area, which is formed on the basis of the cellulose-enzyme complexes and changes during the process. It accounts for the applicability of the topochemical kinetic model. The rate decrease is also due to the inhibition of the cellulase by the products arisen during the process.After rearrangement of Eq. 2 and with inclusion of the Arrhenius temperature dependency of the apparent rate constant, Eq. 6 is obtained: \\n-/-1\\n1()ERTetχα=+λ⋅⋅ (6) where t is the reaction time in (min), and T is the tem-perature in K. The activation energy E depends only on the nature of the raw material. Under relatively constant hydrolysis conditions and wood quality, E is practically constant. The same is true for the coefficient χ in the P-T equation. The pre-exponential factor λ includes the effect of all steric factors on the process. Equation (6) is useful for simulation and control of the enzymatic process.A common compensation effect established between E and the pre-exponential factor (lnλ) is defined as \\nln,ABEλ=+  (7) where A and B are empirical coefficients of the system. The obtained common linear relation is independent on the type of raw material and the pretreatment process (Figure\\xa0 3). The existing of compensation effect indicates one and the same mechanism of cellulase hydrolysis of BKP and SE treated fast-growing tree species. The structural fea-tures in the pulp are important for the value of lnλ .\\n30354045505560657075 80024681012141618202224R. pseudoacacia\\ncv. ‘Pordim’\\nPopulus alba\\nR. pseudoacacia\\ncv. ‘Tsarevets’\\nR. pseudoacacia\\ncv. ‘Jászkiséri’\\nBKP of hardwoodln  λ\\nE (kJ mol-1)\\nFigure 3:\\u2002Compensation effect of cellulase hydrolysis.0.30.40.50.60.70.80. 91.0-0.10.00.10.20.30.40.50.60.70.80.9\\nR. pseudoacacia\\ncv. ‘Pordim’\\nP. elongata\\nP. tomentosa\\nP. alba\\nS. viminalis rubra\\nR. pseudoacacia\\ncv. ‘Tsarevets’\\nR. pseudoacacia\\ncv. ‘Jászkiséri’\\nBKP of hardwoodk 103 (min-1)\\nχ\\nFigure 4:\\u2002Dependence of rate constant k at 50 °C on power factor χ.\\nCorrelations between the kinetic characteristics of the hydrolysis process (rate constant k, power factor χ and wood density) are presented in Figures 4 and 5. The observed deviation in the correlation in Figure 4 is proba-bly due to the full delignification of BKP , which has a posi-tive effect on the rate constant k. The dependence of wood density on the power factor χ (Figure 5) can be related to the diffusion control of the enzymatic topochemical process. The obtained correlation does not apply for pau - lownia, probably because of the specific anatomical struc - ture of this wood species.\\nConclusions\\nThe kinetics of the enzymatic hydrolysis of steam exploded fast-growing tree species and bleached hardwood pulp 200300400500600700800 9000.30.40.50.60.70.80.9\\nR. pseudoacacia   P. elongata\\ncv. ‘Tsarevets’ P. tomentosa\\nP. alba S. viminalis rubra\\nR. pseudoacacia   R. pseudoacacia\\ncv. ‘Jászkiséri’ cv. ‘Pordim’χ\\np (kg m-3)\\nFigure 5:\\u2002Dependence of power factor χ on wood density.\\nBrought to you by | provisional account\\nUnauthenticated\\nDownload Date | 10/8/16 10:43 AM'"
      ]
     },
     "execution_count": 47,
     "metadata": {},
     "output_type": "execute_result"
    }
   ],
   "source": [
    "extraction"
   ]
  },
  {
   "cell_type": "code",
   "execution_count": 48,
   "id": "8abd09e2",
   "metadata": {},
   "outputs": [],
   "source": [
    "f.close()"
   ]
  },
  {
   "cell_type": "raw",
   "id": "6101fcff",
   "metadata": {},
   "source": [
    "3. What PdfFileReader variable stores the number of pages in the PDF document?\n",
    "    numpages will store the number of pages"
   ]
  },
  {
   "cell_type": "code",
   "execution_count": 50,
   "id": "d5a32b6e",
   "metadata": {},
   "outputs": [],
   "source": [
    "f = open('nikil2.pdf','rb')\n",
    "f1 = PyPDF2.PdfFileReader(f)\n",
    "page = f1.numPages\n"
   ]
  },
  {
   "cell_type": "code",
   "execution_count": 51,
   "id": "b67eefda",
   "metadata": {},
   "outputs": [
    {
     "data": {
      "text/plain": [
       "7"
      ]
     },
     "execution_count": 51,
     "metadata": {},
     "output_type": "execute_result"
    }
   ],
   "source": [
    "page"
   ]
  },
  {
   "cell_type": "raw",
   "id": "8834bd78",
   "metadata": {},
   "source": [
    "4. If a PdfFileReader object’s PDF is encrypted with the password swordfish, what must you do\n",
    "before you can obtain Page objects from it?"
   ]
  }
 ],
 "metadata": {
  "kernelspec": {
   "display_name": "Python 3 (ipykernel)",
   "language": "python",
   "name": "python3"
  },
  "language_info": {
   "codemirror_mode": {
    "name": "ipython",
    "version": 3
   },
   "file_extension": ".py",
   "mimetype": "text/x-python",
   "name": "python",
   "nbconvert_exporter": "python",
   "pygments_lexer": "ipython3",
   "version": "3.9.12"
  }
 },
 "nbformat": 4,
 "nbformat_minor": 5
}
