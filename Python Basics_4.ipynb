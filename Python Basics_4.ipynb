{
 "cells": [
  {
   "cell_type": "raw",
   "id": "03b50f4d",
   "metadata": {},
   "source": [
    "1. What exactly is []?\n",
    "    This is an empty list"
   ]
  },
  {
   "cell_type": "raw",
   "id": "24c8f9eb",
   "metadata": {},
   "source": [
    "2. In a list of values stored in a variable called spam, how would you assign the value 'hello' as the\n",
    "third value? (Assume [2, 4, 6, 8, 10] are in spam.)"
   ]
  },
  {
   "cell_type": "code",
   "execution_count": 12,
   "id": "c3a7bd69",
   "metadata": {},
   "outputs": [],
   "source": [
    "spam = [2,4,6,8,10]"
   ]
  },
  {
   "cell_type": "code",
   "execution_count": 13,
   "id": "be70518c",
   "metadata": {},
   "outputs": [],
   "source": [
    "spam.insert(2,'hello')"
   ]
  },
  {
   "cell_type": "code",
   "execution_count": 14,
   "id": "afdaf0f0",
   "metadata": {},
   "outputs": [
    {
     "data": {
      "text/plain": [
       "[2, 4, 'hello', 6, 8, 10]"
      ]
     },
     "execution_count": 14,
     "metadata": {},
     "output_type": "execute_result"
    }
   ],
   "source": [
    "spam"
   ]
  },
  {
   "cell_type": "code",
   "execution_count": 17,
   "id": "2999a77e",
   "metadata": {},
   "outputs": [],
   "source": [
    "spam = ['a','b','c','d']"
   ]
  },
  {
   "cell_type": "raw",
   "id": "5decbf34",
   "metadata": {},
   "source": [
    "3. What is the value of spam[int(int('3' * 2) / 11)]?\n",
    "    d"
   ]
  },
  {
   "cell_type": "raw",
   "id": "2e829075",
   "metadata": {},
   "source": [
    "4. What is the value of spam[-1]?\n",
    "    d"
   ]
  },
  {
   "cell_type": "raw",
   "id": "8151afba",
   "metadata": {},
   "source": [
    "5. What is the value of spam[:2]?\n",
    " ['a', 'b']"
   ]
  },
  {
   "cell_type": "code",
   "execution_count": 20,
   "id": "d0108355",
   "metadata": {},
   "outputs": [],
   "source": [
    "bacon = [3.14,'cat',11,'cat',True]"
   ]
  },
  {
   "cell_type": "raw",
   "id": "28fa110c",
   "metadata": {},
   "source": [
    "6. What is the value of bacon.index('cat')?\n",
    "    "
   ]
  },
  {
   "cell_type": "code",
   "execution_count": 21,
   "id": "0bb1a828",
   "metadata": {},
   "outputs": [
    {
     "data": {
      "text/plain": [
       "1"
      ]
     },
     "execution_count": 21,
     "metadata": {},
     "output_type": "execute_result"
    }
   ],
   "source": [
    "bacon.index('cat')"
   ]
  },
  {
   "cell_type": "raw",
   "id": "85b38795",
   "metadata": {},
   "source": [
    "7. How does bacon.append(99) change the look of the list value in bacon?"
   ]
  },
  {
   "cell_type": "code",
   "execution_count": 22,
   "id": "35d1d702",
   "metadata": {},
   "outputs": [],
   "source": [
    "bacon.append(99)"
   ]
  },
  {
   "cell_type": "code",
   "execution_count": 23,
   "id": "4df0dc94",
   "metadata": {},
   "outputs": [
    {
     "data": {
      "text/plain": [
       "[3.14, 'cat', 11, 'cat', True, 99]"
      ]
     },
     "execution_count": 23,
     "metadata": {},
     "output_type": "execute_result"
    }
   ],
   "source": [
    "bacon"
   ]
  },
  {
   "cell_type": "raw",
   "id": "4140896c",
   "metadata": {},
   "source": [
    "8. How does bacon.remove('cat') change the look of the list in bacon?"
   ]
  },
  {
   "cell_type": "code",
   "execution_count": 24,
   "id": "7b8a6b4c",
   "metadata": {},
   "outputs": [],
   "source": [
    "bacon.remove('cat')"
   ]
  },
  {
   "cell_type": "code",
   "execution_count": 25,
   "id": "63bafe0f",
   "metadata": {},
   "outputs": [
    {
     "data": {
      "text/plain": [
       "[3.14, 11, 'cat', True, 99]"
      ]
     },
     "execution_count": 25,
     "metadata": {},
     "output_type": "execute_result"
    }
   ],
   "source": [
    "bacon"
   ]
  },
  {
   "cell_type": "raw",
   "id": "8ccabe3e",
   "metadata": {},
   "source": [
    "9. What are the list concatenation and list replication operators?\n",
    "   list concatenation operator : +\n",
    "   list replication operator : *"
   ]
  },
  {
   "cell_type": "raw",
   "id": "79fb193b",
   "metadata": {},
   "source": [
    "10. What is difference between the list methods append() and insert()?\n",
    "    append(): This function will add the new element to the list at the end of the list\n",
    "    insert(): This function is used ti add an element at a particular index in the list"
   ]
  },
  {
   "cell_type": "raw",
   "id": "33e72b2e",
   "metadata": {},
   "source": [
    "11. What are the two methods for removing items from a list?\n",
    "    remove() ,clear() and pop() are the two methods for removing items"
   ]
  },
  {
   "cell_type": "raw",
   "id": "4d6e9dd4",
   "metadata": {},
   "source": [
    "12. Describe how list values and string values are identical.\n",
    "    Based on their sequences"
   ]
  },
  {
   "cell_type": "raw",
   "id": "938aff73",
   "metadata": {},
   "source": [
    "13. What's the difference between tuples and lists?\n",
    "    list is a mutable object and tuple is a immutable object\n",
    "    list are closed in a square bracket where as tuples are closed in a normal brackets"
   ]
  },
  {
   "cell_type": "raw",
   "id": "2dd70966",
   "metadata": {},
   "source": [
    "14. How do you type a tuple value that only contains the integer 42?"
   ]
  },
  {
   "cell_type": "code",
   "execution_count": 27,
   "id": "a1d77632",
   "metadata": {},
   "outputs": [],
   "source": [
    "t =(42)"
   ]
  },
  {
   "cell_type": "code",
   "execution_count": 28,
   "id": "44c5aa52",
   "metadata": {},
   "outputs": [
    {
     "data": {
      "text/plain": [
       "42"
      ]
     },
     "execution_count": 28,
     "metadata": {},
     "output_type": "execute_result"
    }
   ],
   "source": [
    "t"
   ]
  },
  {
   "cell_type": "raw",
   "id": "e1b8872c",
   "metadata": {},
   "source": [
    "15. How do you get a list value's tuple form? How do you get a tuple value's list form?"
   ]
  },
  {
   "cell_type": "code",
   "execution_count": 29,
   "id": "0b1aed06",
   "metadata": {},
   "outputs": [],
   "source": [
    "l = [1,4,5,8,6]"
   ]
  },
  {
   "cell_type": "code",
   "execution_count": 30,
   "id": "04b6625f",
   "metadata": {},
   "outputs": [],
   "source": [
    "t = tuple(l)"
   ]
  },
  {
   "cell_type": "code",
   "execution_count": 31,
   "id": "be2187f8",
   "metadata": {},
   "outputs": [
    {
     "data": {
      "text/plain": [
       "(1, 4, 5, 8, 6)"
      ]
     },
     "execution_count": 31,
     "metadata": {},
     "output_type": "execute_result"
    }
   ],
   "source": [
    "t"
   ]
  },
  {
   "cell_type": "code",
   "execution_count": 32,
   "id": "eecfa551",
   "metadata": {},
   "outputs": [
    {
     "data": {
      "text/plain": [
       "[1, 4, 5, 8, 6]"
      ]
     },
     "execution_count": 32,
     "metadata": {},
     "output_type": "execute_result"
    }
   ],
   "source": [
    "list(t)"
   ]
  },
  {
   "cell_type": "raw",
   "id": "4fcef167",
   "metadata": {},
   "source": [
    "16. Variables that \"contain\" list values are not necessarily lists themselves. Instead, what do they\n",
    "contain?\n",
    "string"
   ]
  }
 ],
 "metadata": {
  "kernelspec": {
   "display_name": "Python 3 (ipykernel)",
   "language": "python",
   "name": "python3"
  },
  "language_info": {
   "codemirror_mode": {
    "name": "ipython",
    "version": 3
   },
   "file_extension": ".py",
   "mimetype": "text/x-python",
   "name": "python",
   "nbconvert_exporter": "python",
   "pygments_lexer": "ipython3",
   "version": "3.9.12"
  }
 },
 "nbformat": 4,
 "nbformat_minor": 5
}
