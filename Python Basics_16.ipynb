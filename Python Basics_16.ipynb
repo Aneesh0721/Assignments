{
 "cells": [
  {
   "cell_type": "raw",
   "id": "b6d853cb",
   "metadata": {},
   "source": [
    "1. Create a list called years_list, starting with the year of your birth, and each year thereafter until\n",
    "the year of your fifth birthday. For example, if you were born in 1980. the list would be years_list =\n",
    "[1980, 1981, 1982, 1983, 1984, 1985]."
   ]
  },
  {
   "cell_type": "code",
   "execution_count": 5,
   "id": "cd18e757",
   "metadata": {},
   "outputs": [],
   "source": [
    "year_list = []\n",
    "i = 1997\n",
    "while i >= 1997:\n",
    "    if i == 2003:\n",
    "        break\n",
    "    else:\n",
    "        year_list.append(i)\n",
    "    i += 1\n",
    "    "
   ]
  },
  {
   "cell_type": "code",
   "execution_count": 6,
   "id": "5e71f9c5",
   "metadata": {},
   "outputs": [
    {
     "data": {
      "text/plain": [
       "[1997, 1998, 1999, 2000, 2001, 2002]"
      ]
     },
     "execution_count": 6,
     "metadata": {},
     "output_type": "execute_result"
    }
   ],
   "source": [
    "year_list"
   ]
  },
  {
   "cell_type": "raw",
   "id": "f4cc4eda",
   "metadata": {},
   "source": [
    "2. In which year in years_list was your third birthday? Remember, you were 0 years of age for your\n",
    "first year."
   ]
  },
  {
   "cell_type": "code",
   "execution_count": 7,
   "id": "873fdd91",
   "metadata": {},
   "outputs": [
    {
     "data": {
      "text/plain": [
       "1997"
      ]
     },
     "execution_count": 7,
     "metadata": {},
     "output_type": "execute_result"
    }
   ],
   "source": [
    "year_list[0]"
   ]
  },
  {
   "cell_type": "raw",
   "id": "e3d785b8",
   "metadata": {},
   "source": [
    "3.In the years list, which year were you the oldest?"
   ]
  },
  {
   "cell_type": "code",
   "execution_count": 8,
   "id": "245348dd",
   "metadata": {},
   "outputs": [
    {
     "data": {
      "text/plain": [
       "2002"
      ]
     },
     "execution_count": 8,
     "metadata": {},
     "output_type": "execute_result"
    }
   ],
   "source": [
    "year_list[-1]"
   ]
  },
  {
   "cell_type": "raw",
   "id": "e6a4ab17",
   "metadata": {},
   "source": [
    "4. Make a list called things with these three strings as elements: 'mozzarella', 'cinderella',\n",
    "'salmonella'."
   ]
  },
  {
   "cell_type": "code",
   "execution_count": 9,
   "id": "a36e17cb",
   "metadata": {},
   "outputs": [],
   "source": [
    "things = [\"mozzarella\",\"cinderella\",\"salmonella\"]"
   ]
  },
  {
   "cell_type": "raw",
   "id": "2ec3303b",
   "metadata": {},
   "source": [
    "5. Capitalize the element in things that refers to a person and then print the list. Did it change the\n",
    "element in the list?"
   ]
  },
  {
   "cell_type": "code",
   "execution_count": 23,
   "id": "3764dc00",
   "metadata": {},
   "outputs": [
    {
     "data": {
      "text/plain": [
       "['Mozzarella', 'Cinderella', 'Salmonella']"
      ]
     },
     "execution_count": 23,
     "metadata": {},
     "output_type": "execute_result"
    }
   ],
   "source": [
    "for i in things:\n",
    "    things[things.index(i)] = i.capitalize()\n",
    "things"
   ]
  },
  {
   "cell_type": "raw",
   "id": "0e71060c",
   "metadata": {},
   "source": [
    "6. Make a surprise list with the elements 'Groucho','Chico' and 'Harpo'"
   ]
  },
  {
   "cell_type": "code",
   "execution_count": 24,
   "id": "d3c55077",
   "metadata": {},
   "outputs": [],
   "source": [
    "suprise = ['Groucho','Chico','Harpo']"
   ]
  },
  {
   "cell_type": "raw",
   "id": "767d4b67",
   "metadata": {},
   "source": [
    "7. Lowercase the last element of the surprise list, reverse it, and then capitalize it."
   ]
  },
  {
   "cell_type": "code",
   "execution_count": 31,
   "id": "5d2f5f63",
   "metadata": {},
   "outputs": [],
   "source": [
    "s = suprise[-1].lower()"
   ]
  },
  {
   "cell_type": "code",
   "execution_count": 33,
   "id": "7393a2e9",
   "metadata": {},
   "outputs": [
    {
     "data": {
      "text/plain": [
       "'Harpo'"
      ]
     },
     "execution_count": 33,
     "metadata": {},
     "output_type": "execute_result"
    }
   ],
   "source": [
    "suprise.pop(2)"
   ]
  },
  {
   "cell_type": "code",
   "execution_count": 35,
   "id": "feb7136c",
   "metadata": {},
   "outputs": [],
   "source": [
    "suprise.insert(2,s)"
   ]
  },
  {
   "cell_type": "code",
   "execution_count": 36,
   "id": "a30109d3",
   "metadata": {},
   "outputs": [
    {
     "data": {
      "text/plain": [
       "['Groucho', 'Chico', 'harpo']"
      ]
     },
     "execution_count": 36,
     "metadata": {},
     "output_type": "execute_result"
    }
   ],
   "source": [
    "suprise"
   ]
  },
  {
   "cell_type": "code",
   "execution_count": 37,
   "id": "f8a102ca",
   "metadata": {},
   "outputs": [],
   "source": [
    "suprise.reverse()"
   ]
  },
  {
   "cell_type": "code",
   "execution_count": 38,
   "id": "7f8eb3ef",
   "metadata": {},
   "outputs": [
    {
     "data": {
      "text/plain": [
       "['harpo', 'Chico', 'Groucho']"
      ]
     },
     "execution_count": 38,
     "metadata": {},
     "output_type": "execute_result"
    }
   ],
   "source": [
    "suprise"
   ]
  },
  {
   "cell_type": "code",
   "execution_count": 39,
   "id": "b867db37",
   "metadata": {},
   "outputs": [
    {
     "data": {
      "text/plain": [
       "['Harpo', 'Chico', 'Groucho']"
      ]
     },
     "execution_count": 39,
     "metadata": {},
     "output_type": "execute_result"
    }
   ],
   "source": [
    "for i in suprise:\n",
    "    suprise[suprise.index(i)] = i.capitalize()\n",
    "suprise"
   ]
  },
  {
   "cell_type": "raw",
   "id": "9ddc50a0",
   "metadata": {},
   "source": [
    "8. Make an English-to-French dictionary called e2f and print it. Here are your starter words: dog is\n",
    "chien, cat is chat, and walrus is morse."
   ]
  },
  {
   "cell_type": "code",
   "execution_count": 40,
   "id": "bafbc636",
   "metadata": {},
   "outputs": [],
   "source": [
    "e2f = {'dog' : \"chien\", 'cat':'chat', 'walrus':'morse'}"
   ]
  },
  {
   "cell_type": "raw",
   "id": "3b8813d2",
   "metadata": {},
   "source": [
    "9. Write the French word for walrus in your three-word dictionary e2f."
   ]
  },
  {
   "cell_type": "code",
   "execution_count": 45,
   "id": "32e1e425",
   "metadata": {},
   "outputs": [
    {
     "data": {
      "text/plain": [
       "'morse'"
      ]
     },
     "execution_count": 45,
     "metadata": {},
     "output_type": "execute_result"
    }
   ],
   "source": [
    "e2f['walrus']"
   ]
  },
  {
   "cell_type": "raw",
   "id": "1f089611",
   "metadata": {},
   "source": [
    "10. Make a French-to-English dictionary called f2e from e2f. Use the items method."
   ]
  },
  {
   "cell_type": "code",
   "execution_count": 57,
   "id": "48bee6a5",
   "metadata": {},
   "outputs": [
    {
     "data": {
      "text/plain": [
       "{'chien': 'dog', 'chat': 'cat', 'morse': 'walrus'}"
      ]
     },
     "execution_count": 57,
     "metadata": {},
     "output_type": "execute_result"
    }
   ],
   "source": [
    "f2e = {}\n",
    "for i,j in e2f.items():\n",
    "    f2e[j] = i\n",
    "f2e"
   ]
  },
  {
   "cell_type": "raw",
   "id": "d537fa20",
   "metadata": {},
   "source": [
    "11. Print the English version of the French word chien using f2e."
   ]
  },
  {
   "cell_type": "code",
   "execution_count": 58,
   "id": "abf50a80",
   "metadata": {},
   "outputs": [
    {
     "data": {
      "text/plain": [
       "'dog'"
      ]
     },
     "execution_count": 58,
     "metadata": {},
     "output_type": "execute_result"
    }
   ],
   "source": [
    "f2e['chien']"
   ]
  },
  {
   "cell_type": "raw",
   "id": "a357c2b8",
   "metadata": {},
   "source": [
    "12. Make and print a set of English words from the keys in e2f."
   ]
  },
  {
   "cell_type": "code",
   "execution_count": 60,
   "id": "e5858bbd",
   "metadata": {},
   "outputs": [
    {
     "data": {
      "text/plain": [
       "dict_keys(['dog', 'cat', 'walrus'])"
      ]
     },
     "execution_count": 60,
     "metadata": {},
     "output_type": "execute_result"
    }
   ],
   "source": [
    "e2f.keys()"
   ]
  },
  {
   "cell_type": "raw",
   "id": "dd037920",
   "metadata": {},
   "source": [
    "13. Make a multilevel dictionary called life. Use these strings for the topmost keys: 'animals', 'plants',\n",
    "and 'other'. Make the 'animals' key refer to another dictionary with the keys 'cats', 'octopi', and\n",
    "'emus'. Make the 'cats' key refer to a list of strings with the values 'Henri', 'Grumpy', and 'Lucy'.\n",
    "Make all the other keys refer to empty dictionaries."
   ]
  },
  {
   "cell_type": "code",
   "execution_count": 62,
   "id": "ac936988",
   "metadata": {},
   "outputs": [],
   "source": [
    "life = {'animals':{'cats':['Henri','grumpy','Lucy'],'octopi':{},'emus':{}}, 'plants':{} ,'other':{} }"
   ]
  },
  {
   "cell_type": "raw",
   "id": "befb0fe0",
   "metadata": {},
   "source": [
    "14. Print the top-level keys of life."
   ]
  },
  {
   "cell_type": "code",
   "execution_count": 64,
   "id": "3ef6fb27",
   "metadata": {},
   "outputs": [
    {
     "name": "stdout",
     "output_type": "stream",
     "text": [
      "dict_keys(['animals', 'plants', 'other'])\n"
     ]
    }
   ],
   "source": [
    "life.keys()"
   ]
  },
  {
   "cell_type": "raw",
   "id": "ef663cd3",
   "metadata": {},
   "source": [
    "15. Print the keys for life['animals']."
   ]
  },
  {
   "cell_type": "code",
   "execution_count": 66,
   "id": "1f684da9",
   "metadata": {},
   "outputs": [
    {
     "data": {
      "text/plain": [
       "dict_keys(['cats', 'octopi', 'emus'])"
      ]
     },
     "execution_count": 66,
     "metadata": {},
     "output_type": "execute_result"
    }
   ],
   "source": [
    "life['animals'].keys()"
   ]
  },
  {
   "cell_type": "raw",
   "id": "840cba23",
   "metadata": {},
   "source": [
    "16. Print the values for life['animals']['cats']"
   ]
  },
  {
   "cell_type": "code",
   "execution_count": 67,
   "id": "21ad87b9",
   "metadata": {},
   "outputs": [
    {
     "data": {
      "text/plain": [
       "['Henri', 'grumpy', 'Lucy']"
      ]
     },
     "execution_count": 67,
     "metadata": {},
     "output_type": "execute_result"
    }
   ],
   "source": [
    "life['animals']['cats']"
   ]
  },
  {
   "cell_type": "code",
   "execution_count": 69,
   "id": "be2d1ee4",
   "metadata": {},
   "outputs": [
    {
     "data": {
      "text/plain": [
       "dict_values([['Henri', 'grumpy', 'Lucy'], {}, {}])"
      ]
     },
     "execution_count": 69,
     "metadata": {},
     "output_type": "execute_result"
    }
   ],
   "source": [
    "life['animals'].values()"
   ]
  }
 ],
 "metadata": {
  "kernelspec": {
   "display_name": "Python 3 (ipykernel)",
   "language": "python",
   "name": "python3"
  },
  "language_info": {
   "codemirror_mode": {
    "name": "ipython",
    "version": 3
   },
   "file_extension": ".py",
   "mimetype": "text/x-python",
   "name": "python",
   "nbconvert_exporter": "python",
   "pygments_lexer": "ipython3",
   "version": "3.9.12"
  }
 },
 "nbformat": 4,
 "nbformat_minor": 5
}
