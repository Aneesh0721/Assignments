{
 "cells": [
  {
   "cell_type": "raw",
   "id": "940a907e",
   "metadata": {},
   "source": [
    "1. What are escape characters, and how do you use them?\n",
    "   Escape characters represent characters in string values that would otherwise be difficult or impossible to type into code."
   ]
  },
  {
   "cell_type": "raw",
   "id": "7ea6dee8",
   "metadata": {},
   "source": [
    "2. What do the escape characters n and t stand for?\n",
    "    \\n : newline\n",
    "    \\t : tab"
   ]
  },
  {
   "cell_type": "raw",
   "id": "2288d099",
   "metadata": {},
   "source": [
    "3. What is the way to include backslash characters in a string?\n",
    "    we use this: \\\\"
   ]
  },
  {
   "cell_type": "raw",
   "id": "bdb4856d",
   "metadata": {},
   "source": [
    "4. The string \"Howl's Moving Castle\" is a correct value. Why isn't the single quote character in the\n",
    "word Howl's not escaped a problem?\n",
    "    Because we have used double quote for the whole string"
   ]
  },
  {
   "cell_type": "raw",
   "id": "e008528b",
   "metadata": {},
   "source": [
    "5. How do you write a string of newlines if you don't want to use the n character?\n",
    "    we use triple quote for using the multiline which can use new line"
   ]
  },
  {
   "cell_type": "raw",
   "id": "e8678f1a",
   "metadata": {},
   "source": [
    "6. What are the values of the given expressions?"
   ]
  },
  {
   "cell_type": "code",
   "execution_count": 1,
   "id": "574a2b4b",
   "metadata": {},
   "outputs": [
    {
     "data": {
      "text/plain": [
       "'e'"
      ]
     },
     "execution_count": 1,
     "metadata": {},
     "output_type": "execute_result"
    }
   ],
   "source": [
    "'Hello,world!'[1]"
   ]
  },
  {
   "cell_type": "code",
   "execution_count": 2,
   "id": "e5e788bc",
   "metadata": {},
   "outputs": [
    {
     "data": {
      "text/plain": [
       "'Hello'"
      ]
     },
     "execution_count": 2,
     "metadata": {},
     "output_type": "execute_result"
    }
   ],
   "source": [
    "'Hello,world!'[0:5]"
   ]
  },
  {
   "cell_type": "code",
   "execution_count": 4,
   "id": "d6bc79d1",
   "metadata": {},
   "outputs": [
    {
     "data": {
      "text/plain": [
       "'Hello'"
      ]
     },
     "execution_count": 4,
     "metadata": {},
     "output_type": "execute_result"
    }
   ],
   "source": [
    "'Hello,world!'[:5]"
   ]
  },
  {
   "cell_type": "code",
   "execution_count": 5,
   "id": "04c935fc",
   "metadata": {},
   "outputs": [
    {
     "data": {
      "text/plain": [
       "'lo,world!'"
      ]
     },
     "execution_count": 5,
     "metadata": {},
     "output_type": "execute_result"
    }
   ],
   "source": [
    "'Hello,world!'[3:]"
   ]
  },
  {
   "cell_type": "raw",
   "id": "e48c6fbc",
   "metadata": {},
   "source": [
    "7. What are the values of the following expressions?"
   ]
  },
  {
   "cell_type": "code",
   "execution_count": 6,
   "id": "2f223cb6",
   "metadata": {},
   "outputs": [
    {
     "data": {
      "text/plain": [
       "'HELLO'"
      ]
     },
     "execution_count": 6,
     "metadata": {},
     "output_type": "execute_result"
    }
   ],
   "source": [
    "'Hello'.upper()"
   ]
  },
  {
   "cell_type": "code",
   "execution_count": 7,
   "id": "8dfe7558",
   "metadata": {},
   "outputs": [
    {
     "data": {
      "text/plain": [
       "True"
      ]
     },
     "execution_count": 7,
     "metadata": {},
     "output_type": "execute_result"
    }
   ],
   "source": [
    "'Hello'.upper().isupper()"
   ]
  },
  {
   "cell_type": "code",
   "execution_count": 8,
   "id": "6a25376c",
   "metadata": {},
   "outputs": [
    {
     "data": {
      "text/plain": [
       "'hello'"
      ]
     },
     "execution_count": 8,
     "metadata": {},
     "output_type": "execute_result"
    }
   ],
   "source": [
    "'Hello'.upper().lower()"
   ]
  },
  {
   "cell_type": "raw",
   "id": "49e474e6",
   "metadata": {},
   "source": [
    "8. What are the values of the following expressions?"
   ]
  },
  {
   "cell_type": "code",
   "execution_count": 9,
   "id": "1540d300",
   "metadata": {},
   "outputs": [
    {
     "data": {
      "text/plain": [
       "['Remember,remember,the', 'fifth', 'of', 'july.']"
      ]
     },
     "execution_count": 9,
     "metadata": {},
     "output_type": "execute_result"
    }
   ],
   "source": [
    "'Remember,remember,the fifth of july.'.split()"
   ]
  },
  {
   "cell_type": "code",
   "execution_count": 10,
   "id": "e2728e36",
   "metadata": {},
   "outputs": [
    {
     "data": {
      "text/plain": [
       "'There-can-only-one.'"
      ]
     },
     "execution_count": 10,
     "metadata": {},
     "output_type": "execute_result"
    }
   ],
   "source": [
    "'-'.join('There can only one.'.split())"
   ]
  },
  {
   "cell_type": "raw",
   "id": "c068bde3",
   "metadata": {},
   "source": [
    "9. What are the methods for right-justifying, left-justifying, and centering a string?\n",
    "    rjust(), ljust() and center() are the methods"
   ]
  },
  {
   "cell_type": "raw",
   "id": "c48d6322",
   "metadata": {},
   "source": [
    " 10. What is the best way to remove whitespace characters from the start or end?\n",
    "    rstrip() and lstrip() are the two used for removing whitespace"
   ]
  }
 ],
 "metadata": {
  "kernelspec": {
   "display_name": "Python 3 (ipykernel)",
   "language": "python",
   "name": "python3"
  },
  "language_info": {
   "codemirror_mode": {
    "name": "ipython",
    "version": 3
   },
   "file_extension": ".py",
   "mimetype": "text/x-python",
   "name": "python",
   "nbconvert_exporter": "python",
   "pygments_lexer": "ipython3",
   "version": "3.9.12"
  }
 },
 "nbformat": 4,
 "nbformat_minor": 5
}
