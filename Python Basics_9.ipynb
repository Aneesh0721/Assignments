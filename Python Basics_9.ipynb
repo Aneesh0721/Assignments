{
 "cells": [
  {
   "cell_type": "raw",
   "id": "90bc7273",
   "metadata": {},
   "source": [
    "1. To what does a relative path refer?\n",
    "    It relates to the current directory"
   ]
  },
  {
   "cell_type": "raw",
   "id": "545b8725",
   "metadata": {},
   "source": [
    "2. What does an absolute path start with your operating system?\n",
    "    Absolute path shows us the full path of the file or directory\n",
    "    It starts with the compters hard drive"
   ]
  },
  {
   "cell_type": "raw",
   "id": "65a2e146",
   "metadata": {},
   "source": [
    "3. What do the functions os.getcwd() and os.chdir() do?\n",
    "    os.getcwd() : returns the current working directory of the process\n",
    "    os.chdir() : This function allows us to change the current working directory to a specified path"
   ]
  },
  {
   "cell_type": "raw",
   "id": "37ed4a32",
   "metadata": {},
   "source": [
    "4. What are the . and .. folders?\n",
    "    These are the symbols used in the relative path"
   ]
  },
  {
   "cell_type": "raw",
   "id": "c3e0519f",
   "metadata": {},
   "source": [
    "5. In C:\\bacon\\eggs\\spam.txt, which part is the dir name, and which part is the base name?\n",
    "    C:\\bacon\\eggs\\ : Directory name\n",
    "    spam.txt : base name"
   ]
  },
  {
   "cell_type": "raw",
   "id": "b51debb6",
   "metadata": {},
   "source": [
    "6. What are the three “mode” arguments that can be passed to the open() function?\n",
    "    read, write and append are the three mode arguments of the open function\n",
    "    'r'       open for reading (default)\n",
    "    'w'       open for writing, truncating the file first\n",
    "    'x'       create a new file and open it for writing\n",
    "    'a'       open for writing, appending to the end of the file if it exists\n",
    "    'b'       binary mode\n",
    "    't'       text mode (default)\n",
    "    '+'       open a disk file for updating (reading and writing)\n",
    "    'U'       universal newline mode (deprecated)"
   ]
  },
  {
   "cell_type": "raw",
   "id": "2555459c",
   "metadata": {},
   "source": [
    "7. What happens if an existing file is opened in write mode?\n",
    "    Then the file will be overridden with the text we write"
   ]
  },
  {
   "cell_type": "raw",
   "id": "6c577239",
   "metadata": {},
   "source": [
    "8. How do you tell the difference between read() and readlines()?\n",
    "    read(): this will read whole string and returns in a paragraph\n",
    "    readlines() : this will read all the lines and return in the points wise"
   ]
  },
  {
   "cell_type": "raw",
   "id": "446342cf",
   "metadata": {},
   "source": [
    "9. What data structure does a shelf value resemble?\n",
    "    It resembles the dictionary which have keys() and values()"
   ]
  }
 ],
 "metadata": {
  "kernelspec": {
   "display_name": "Python 3 (ipykernel)",
   "language": "python",
   "name": "python3"
  },
  "language_info": {
   "codemirror_mode": {
    "name": "ipython",
    "version": 3
   },
   "file_extension": ".py",
   "mimetype": "text/x-python",
   "name": "python",
   "nbconvert_exporter": "python",
   "pygments_lexer": "ipython3",
   "version": "3.9.12"
  }
 },
 "nbformat": 4,
 "nbformat_minor": 5
}
