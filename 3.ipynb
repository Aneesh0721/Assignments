{
 "cells": [
  {
   "cell_type": "raw",
   "id": "08c457e1",
   "metadata": {},
   "source": [
    "1. Why are functions advantageous to have in your programs?\n",
    "   It helps us to avoid writing extra code which is not necessary"
   ]
  },
  {
   "cell_type": "raw",
   "id": "cbb9cbc2",
   "metadata": {},
   "source": [
    "2. When does the code in a function run: when it's specified or when it's called?\n",
    "   It executes when the function is called"
   ]
  },
  {
   "cell_type": "raw",
   "id": "20848c25",
   "metadata": {},
   "source": [
    "3. What statement creates a function?\n",
    "   The def statement creates a function"
   ]
  },
  {
   "cell_type": "raw",
   "id": "bca4a632",
   "metadata": {},
   "source": [
    "4. What is the difference between a function and a function call?\n",
    "   function is a name which is given to it which is defined as myfunction where as function call is used to get the "
   ]
  },
  {
   "cell_type": "raw",
   "id": "04dfdd8e",
   "metadata": {},
   "source": [
    "5. How many global scopes are there in a Python program? How many local scopes?\n",
    "   There will be one global scopes in a program and multiple local scopes in a python program based on their functions"
   ]
  },
  {
   "cell_type": "raw",
   "id": "4d9275bb",
   "metadata": {},
   "source": [
    "6. What happens to variables in a local scope when the function call returns?\n",
    "   Variables in the local scope gets destroyed when the function calls return"
   ]
  },
  {
   "cell_type": "raw",
   "id": "edfa97f7",
   "metadata": {},
   "source": [
    "7. What is the concept of a return value? Is it possible to have a return value in an expression?\n",
    "   Return statement is used for execution of the code and returns the outpt of the code and terminates the code"
   ]
  },
  {
   "cell_type": "raw",
   "id": "5788496a",
   "metadata": {},
   "source": [
    "8. If a function does not have a return statement, what is the return value of a call to that function?\n",
    "   If the return statement is not present then none of the things will be printed"
   ]
  },
  {
   "cell_type": "raw",
   "id": "32f6dab7",
   "metadata": {},
   "source": [
    "9. How do you make a function variable refer to the global variable?\n",
    "   We can use the global variable inside a function variable by using the keyword global which allows us to change the global variable"
   ]
  },
  {
   "cell_type": "raw",
   "id": "3a4e26f4",
   "metadata": {},
   "source": [
    "10. What is the data type of None?\n",
    "    None type"
   ]
  },
  {
   "cell_type": "raw",
   "id": "b35b292c",
   "metadata": {},
   "source": [
    "11. What does the sentence import areallyourpetsnamederic do?"
   ]
  },
  {
   "cell_type": "code",
   "execution_count": 14,
   "id": "dc3eae76",
   "metadata": {},
   "outputs": [
    {
     "ename": "ModuleNotFoundError",
     "evalue": "No module named 'areallyourpetsnamederic'",
     "output_type": "error",
     "traceback": [
      "\u001b[1;31m---------------------------------------------------------------------------\u001b[0m",
      "\u001b[1;31mModuleNotFoundError\u001b[0m                       Traceback (most recent call last)",
      "Input \u001b[1;32mIn [14]\u001b[0m, in \u001b[0;36m<cell line: 1>\u001b[1;34m()\u001b[0m\n\u001b[1;32m----> 1\u001b[0m \u001b[38;5;28;01mimport\u001b[39;00m \u001b[38;5;21;01mareallyourpetsnamederic\u001b[39;00m\n",
      "\u001b[1;31mModuleNotFoundError\u001b[0m: No module named 'areallyourpetsnamederic'"
     ]
    }
   ],
   "source": [
    "import areallyourpetsnamederic"
   ]
  },
  {
   "cell_type": "raw",
   "id": "360a7b3c",
   "metadata": {},
   "source": [
    "it shows nothing because there is no module named areallyourpetsnamederic"
   ]
  },
  {
   "cell_type": "raw",
   "id": "54d79dcd",
   "metadata": {},
   "source": [
    "12. If you had a bacon() feature in a spam module, what would you call it after importing spam?\n",
    "    from spam import bacon"
   ]
  },
  {
   "cell_type": "raw",
   "id": "88b4d5fd",
   "metadata": {},
   "source": [
    "13. What can you do to save a programme from crashing if it encounters an error?\n",
    "    We can use exception handling in order to save our program where we can write our required code in try block, if it shows       any error the it will go to except block which shows error message instead of program crash"
   ]
  },
  {
   "cell_type": "raw",
   "id": "5f44173c",
   "metadata": {},
   "source": [
    "14. What is the purpose of the try clause? What is the purpose of the except clause?\n",
    "    try and except clause is used to finding the errors and handling the errors from program crashing"
   ]
  }
 ],
 "metadata": {
  "kernelspec": {
   "display_name": "Python 3 (ipykernel)",
   "language": "python",
   "name": "python3"
  },
  "language_info": {
   "codemirror_mode": {
    "name": "ipython",
    "version": 3
   },
   "file_extension": ".py",
   "mimetype": "text/x-python",
   "name": "python",
   "nbconvert_exporter": "python",
   "pygments_lexer": "ipython3",
   "version": "3.9.12"
  }
 },
 "nbformat": 4,
 "nbformat_minor": 5
}
