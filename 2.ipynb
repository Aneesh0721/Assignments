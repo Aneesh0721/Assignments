{
 "cells": [
  {
   "cell_type": "raw",
   "id": "e87e663b",
   "metadata": {},
   "source": [
    "1.What are the two values of the Boolean data type? How do you write them?\n",
    "  True\n",
    "  False"
   ]
  },
  {
   "cell_type": "raw",
   "id": "e4efc440",
   "metadata": {},
   "source": [
    "2. What are the three different types of Boolean operators?\n",
    "   1. AND\n",
    "   2. OR\n",
    "   3. NOT"
   ]
  },
  {
   "cell_type": "raw",
   "id": "9d00adfa",
   "metadata": {},
   "source": [
    "3. Make a list of each Boolean operator's truth tables (i.e. every possible combination of Boolean\n",
    "   values for the operator and what it evaluate ).\n",
    "   1. AND\n",
    "     T + T = T\n",
    "     T + F = F\n",
    "     F + T = F\n",
    "     F + F = F\n",
    "     \n",
    "   2. OR \n",
    "     T + T = T\n",
    "     T + F = T\n",
    "     F + T = T\n",
    "     F + F = F\n",
    "     \n",
    "   3. NOT - AND\n",
    "     T + T = F\n",
    "     T + F = T\n",
    "     F + T = T\n",
    "     F + F = T\n",
    "     \n",
    "   4. NOT - OR\n",
    "     T + T = F\n",
    "     T + F = F\n",
    "     F + T = F\n",
    "     F + F = T"
   ]
  },
  {
   "cell_type": "raw",
   "id": "4ccf2a17",
   "metadata": {},
   "source": [
    "4. What are the values of the following expressions?\n",
    "(5 > 4) and (3 == 5)  = False       \n",
    "not (5 >  4)   = False\n",
    "(5 > 4) or (3 == 5)  = True\n",
    "not ((5 > 4) or (3 == 5))  = False\n",
    "(True and True) and (True == False) =  False\n",
    "(not False) or (not True)  = True"
   ]
  },
  {
   "cell_type": "raw",
   "id": "07e88143",
   "metadata": {},
   "source": [
    "5. What are the six comparison operators?\n",
    "  1. >\n",
    "  2. >=\n",
    "  3. <\n",
    "  4. <=\n",
    "  5. ==\n",
    "  6. !="
   ]
  },
  {
   "cell_type": "raw",
   "id": "fdd64e72",
   "metadata": {},
   "source": [
    "6. How do you tell the difference between the equal to and assignment operators?Describe a\n",
    "   condition and when you would use one.\n",
    "   Equal to is described by ==\n",
    "   assignment operator is described by =\n",
    "   \n",
    "   a = 10  (Assignment operator)\n",
    "   if a == 11: (Equal to)\n",
    "       print(\"True\")\n",
    "   else:\n",
    "       print(\"False\")\n",
    "       "
   ]
  },
  {
   "cell_type": "code",
   "execution_count": 8,
   "id": "ab5908c7",
   "metadata": {},
   "outputs": [
    {
     "name": "stdout",
     "output_type": "stream",
     "text": [
      "ham\n",
      "spam\n",
      "spam\n"
     ]
    }
   ],
   "source": [
    "#7. Identify the three blocks in this code:\n",
    "spam = 0\n",
    "if spam == 10:\n",
    "    print('eggs')\n",
    "if spam > 5:\n",
    "    print('bacon')\n",
    "else:\n",
    "    print('ham')\n",
    "    print('spam')\n",
    "    print('spam')"
   ]
  },
  {
   "cell_type": "raw",
   "id": "e5d3fda6",
   "metadata": {},
   "source": [
    "8. Write code that prints Hello if 1 is stored in spam, prints Howdy if 2 is stored in spam, and prints\n",
    "Greetings! if anything else is stored in spam."
   ]
  },
  {
   "cell_type": "code",
   "execution_count": 12,
   "id": "f5af5ad3",
   "metadata": {},
   "outputs": [
    {
     "name": "stdout",
     "output_type": "stream",
     "text": [
      "0\n",
      "Greetings!\n"
     ]
    }
   ],
   "source": [
    "spam = int(input())\n",
    "if spam == 1:\n",
    "    print(\"Hello\")\n",
    "elif spam == 2:\n",
    "    print(\"Howdy\")\n",
    "else:\n",
    "    print(\"Greetings!\")"
   ]
  },
  {
   "cell_type": "raw",
   "id": "6a8c2b75",
   "metadata": {},
   "source": [
    "9.If your programme is stuck in an endless loop, what keys you’ll press?\n",
    "    Ctrl + C"
   ]
  },
  {
   "cell_type": "raw",
   "id": "2ccf723e",
   "metadata": {},
   "source": [
    "10. How can you tell the difference between break and continue?\n",
    "    In break statement it permanently exits from the loop, where as continue will go on with next loop"
   ]
  },
  {
   "cell_type": "raw",
   "id": "7b21f19f",
   "metadata": {},
   "source": [
    "11. In a for loop, what is the difference between range(10), range(0, 10), and range(0, 10, 1)?\n",
    "    There is no difference between them\n",
    "    Range(10), range(0,10) and range(0,10,1) all gives same output : 0,1,2,3,4,5,6,7,8,9"
   ]
  },
  {
   "cell_type": "code",
   "execution_count": null,
   "id": "23d69e4c",
   "metadata": {},
   "outputs": [],
   "source": [
    "12. Write a short program that prints the numbers 1 to 10 using a for loop. Then write an equivalent\n",
    "program that prints the numbers 1 to 10 using a while loop."
   ]
  },
  {
   "cell_type": "code",
   "execution_count": 18,
   "id": "17be41d5",
   "metadata": {},
   "outputs": [
    {
     "name": "stdout",
     "output_type": "stream",
     "text": [
      "1 2 3 4 5 6 7 8 9 10 "
     ]
    }
   ],
   "source": [
    "for i in range(1,11,1):\n",
    "    print(i,end = \" \")"
   ]
  },
  {
   "cell_type": "code",
   "execution_count": 23,
   "id": "afb89e09",
   "metadata": {},
   "outputs": [
    {
     "name": "stdout",
     "output_type": "stream",
     "text": [
      "1 2 3 4 5 6 7 8 9 10 "
     ]
    }
   ],
   "source": [
    "i = 1\n",
    "while i < 11:\n",
    "    print(i, end = \" \")\n",
    "    i += 1"
   ]
  },
  {
   "cell_type": "raw",
   "id": "a9ab4704",
   "metadata": {},
   "source": [
    "13. If you had a function named bacon() inside a module named spam, how would you call it after\n",
    " importing spam?"
   ]
  },
  {
   "cell_type": "code",
   "execution_count": null,
   "id": "2eb37bc8",
   "metadata": {},
   "outputs": [],
   "source": []
  }
 ],
 "metadata": {
  "kernelspec": {
   "display_name": "Python 3 (ipykernel)",
   "language": "python",
   "name": "python3"
  },
  "language_info": {
   "codemirror_mode": {
    "name": "ipython",
    "version": 3
   },
   "file_extension": ".py",
   "mimetype": "text/x-python",
   "name": "python",
   "nbconvert_exporter": "python",
   "pygments_lexer": "ipython3",
   "version": "3.9.12"
  }
 },
 "nbformat": 4,
 "nbformat_minor": 5
}
