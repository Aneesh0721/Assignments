{
 "cells": [
  {
   "cell_type": "raw",
   "id": "7e19f804",
   "metadata": {},
   "source": [
    "1. What is the relationship between def statements and lambda expressions ?"
   ]
  },
  {
   "cell_type": "raw",
   "id": "cddbe6f0",
   "metadata": {},
   "source": [
    "Lambda functions are also defined as anonymous functions same as regular functions but can be defined without specifying\n",
    "any function name. While normal functions should be defined by a key word."
   ]
  },
  {
   "cell_type": "raw",
   "id": "578e23e5",
   "metadata": {},
   "source": [
    "2. What is the benefit of lambda?"
   ]
  },
  {
   "cell_type": "raw",
   "id": "1e682cbb",
   "metadata": {},
   "source": [
    "This is best used for small anonymous functions, because it works same as the regular function but without the function key word"
   ]
  },
  {
   "cell_type": "raw",
   "id": "c2a35759",
   "metadata": {},
   "source": [
    "3. Compare and contrast map, filter, and reduce."
   ]
  },
  {
   "cell_type": "raw",
   "id": "e1209189",
   "metadata": {},
   "source": [
    "MAP function to each element of iterator and collects result.\n",
    "\n",
    "FILTER applies function to each element of iterator and collect those elements for which function returns true. \n",
    "For this function need to return boolean value.\n",
    "\n",
    "REDUCE applies rolling computation to sequential pair of elements in iterator. Initially it takes two elements from \n",
    "iterator in sequence, applies function, collect result, then take next element in sequence from iterator, applies function \n",
    "and repeat this untill list has single value."
   ]
  },
  {
   "cell_type": "raw",
   "id": "51af849b",
   "metadata": {},
   "source": [
    "4. What are function annotations, and how are they used?"
   ]
  },
  {
   "cell_type": "raw",
   "id": "05ce78a1",
   "metadata": {},
   "source": [
    "5. What are recursive functions, and how are they used?"
   ]
  },
  {
   "cell_type": "raw",
   "id": "d2ecf59b",
   "metadata": {},
   "source": [
    "A recursive function is a function defined in terms of itself via self-referential expressions. \n",
    "This means that the function will continue to call itself and repeat its behavior until some condition is met to return a result."
   ]
  },
  {
   "cell_type": "raw",
   "id": "a71a800f",
   "metadata": {},
   "source": [
    "6. What are some general design guidelines for coding functions?"
   ]
  },
  {
   "cell_type": "raw",
   "id": "edcbc0cb",
   "metadata": {},
   "source": [
    "Use 4 spaces instead of tabs.\n",
    "Maximum line length is 120 symbols.\n",
    "2 blank lines between classes and functions.\n",
    "1 blank line within class between class methods.\n",
    "No blank line following a def line.\n",
    "No whitespace inside parentheses, brackets, or braces."
   ]
  },
  {
   "cell_type": "raw",
   "id": "ee07b8f0",
   "metadata": {},
   "source": [
    "7. Name three or more ways that functions can communicate results to a caller."
   ]
  },
  {
   "cell_type": "raw",
   "id": "d320c4d9",
   "metadata": {},
   "source": [
    "Default arguments    hello()\n",
    "Required arguments   hello(a,b)\n",
    "Keyword arguments    hello(b=5,a=3)\n",
    "Varible number of arguments hello(*a)"
   ]
  },
  {
   "cell_type": "code",
   "execution_count": null,
   "id": "2a589992",
   "metadata": {},
   "outputs": [],
   "source": []
  }
 ],
 "metadata": {
  "kernelspec": {
   "display_name": "Python 3 (ipykernel)",
   "language": "python",
   "name": "python3"
  },
  "language_info": {
   "codemirror_mode": {
    "name": "ipython",
    "version": 3
   },
   "file_extension": ".py",
   "mimetype": "text/x-python",
   "name": "python",
   "nbconvert_exporter": "python",
   "pygments_lexer": "ipython3",
   "version": "3.9.12"
  }
 },
 "nbformat": 4,
 "nbformat_minor": 5
}
