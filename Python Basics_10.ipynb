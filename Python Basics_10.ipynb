{
 "cells": [
  {
   "cell_type": "raw",
   "id": "c2ce9f98",
   "metadata": {},
   "source": [
    "1. How do you distinguish between shutil.copy() and shutil.copytree()?\n",
    "    shutil.copy() : Copies a single file\n",
    "    shutil.copytree() : Copies the entire folder"
   ]
  },
  {
   "cell_type": "raw",
   "id": "cdd8b37b",
   "metadata": {},
   "source": [
    "2. What function is used to rename files?\n",
    "    rename() method is used for renaming the files"
   ]
  },
  {
   "cell_type": "raw",
   "id": "b93d94f7",
   "metadata": {},
   "source": [
    "3. What is the difference between the delete functions in the send2trash and shutil modules?\n",
    "    send2trash will delete the file and sends to recycle bin\n",
    "    shutil will delete the file permanently"
   ]
  },
  {
   "cell_type": "raw",
   "id": "9688c571",
   "metadata": {},
   "source": [
    "4.ZipFile objects have a close() method just like File objects’ close() method. What ZipFile method is\n",
    "equivalent to File objects’ open() method?\n",
    "    yes ZipFile() is equivalent to open() function, both the functions have same arguments first argument is file name and second argument is mode of the file"
   ]
  },
  {
   "cell_type": "raw",
   "id": "03b81327",
   "metadata": {},
   "source": [
    "5. Create a programme that searches a folder tree for files with a certain file extension (such as .pdf\n",
    "or .jpg). Copy these files from whatever location they are in to a new folder."
   ]
  }
 ],
 "metadata": {
  "kernelspec": {
   "display_name": "Python 3 (ipykernel)",
   "language": "python",
   "name": "python3"
  },
  "language_info": {
   "codemirror_mode": {
    "name": "ipython",
    "version": 3
   },
   "file_extension": ".py",
   "mimetype": "text/x-python",
   "name": "python",
   "nbconvert_exporter": "python",
   "pygments_lexer": "ipython3",
   "version": "3.9.12"
  }
 },
 "nbformat": 4,
 "nbformat_minor": 5
}
