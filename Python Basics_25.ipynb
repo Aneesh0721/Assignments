{
 "cells": [
  {
   "cell_type": "raw",
   "id": "562c82dd",
   "metadata": {},
   "source": [
    "1) . What is the difference between enclosing a list comprehension in square brackets and parentheses?"
   ]
  },
  {
   "cell_type": "raw",
   "id": "85bb5719",
   "metadata": {},
   "source": [
    "square brackets are used for list\n",
    "parentheses are used for tuples"
   ]
  },
  {
   "cell_type": "raw",
   "id": "1e73d854",
   "metadata": {},
   "source": [
    "2) What is the relationship between generators and iterators?"
   ]
  },
  {
   "cell_type": "raw",
   "id": "ac8433b9",
   "metadata": {},
   "source": [
    "Iterators are the objects that use the next() method to get the next value of the sequence. \n",
    "A generator is a function that produces or yields a sequence of values using a yield statement. \n",
    "Classes are used to Implement the iterators. \n",
    "Functions are used to implement the generator."
   ]
  },
  {
   "cell_type": "raw",
   "id": "e7c25b58",
   "metadata": {},
   "source": [
    "3) What are the signs that a function is a generator function?"
   ]
  },
  {
   "cell_type": "raw",
   "id": "fe0ba032",
   "metadata": {},
   "source": [
    "Yield is used instead of return in a generator function"
   ]
  },
  {
   "cell_type": "raw",
   "id": "0e038f5b",
   "metadata": {},
   "source": [
    "4) What is the purpose of a yield statement?"
   ]
  },
  {
   "cell_type": "raw",
   "id": "b73040d9",
   "metadata": {},
   "source": [
    "The yield statement returns a generator object to the one who calls the function which contains yield, instead of simply returning a value."
   ]
  },
  {
   "cell_type": "raw",
   "id": "de418cdc",
   "metadata": {},
   "source": [
    "5) What is the relationship between map calls and list comprehensions? Make a comparison and\n",
    "contrast between the two."
   ]
  },
  {
   "cell_type": "raw",
   "id": "45a9553b",
   "metadata": {},
   "source": [
    "List comprehension is more concise and easier to read as compared to map. List comprehension are used when a list of results is required as map only returns a map object and does not return any list. Map is faster in case of calling an already defined function (as no lambda is required)."
   ]
  }
 ],
 "metadata": {
  "kernelspec": {
   "display_name": "Python 3 (ipykernel)",
   "language": "python",
   "name": "python3"
  },
  "language_info": {
   "codemirror_mode": {
    "name": "ipython",
    "version": 3
   },
   "file_extension": ".py",
   "mimetype": "text/x-python",
   "name": "python",
   "nbconvert_exporter": "python",
   "pygments_lexer": "ipython3",
   "version": "3.9.12"
  }
 },
 "nbformat": 4,
 "nbformat_minor": 5
}
